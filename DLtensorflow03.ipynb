{
 "cells": [
  {
   "cell_type": "code",
   "execution_count": 1,
   "metadata": {},
   "outputs": [],
   "source": [
    "import tensorflow as tf\n",
    "from tensorflow.keras.models import Sequential\n",
    "from tensorflow.keras.layers import Dense, Dropout, Activation, Flatten\n",
    "from tensorflow.keras.layers import Conv2D, MaxPooling2D\n",
    "\n",
    "import pickle\n",
    "\n"
   ]
  },
  {
   "cell_type": "code",
   "execution_count": 6,
   "metadata": {},
   "outputs": [
    {
     "name": "stdout",
     "output_type": "stream",
     "text": [
      "[[[0.17647059]\n",
      "  [0.18823529]\n",
      "  [0.20784314]\n",
      "  ...\n",
      "  [0.57647059]\n",
      "  [0.58431373]\n",
      "  [0.6       ]]\n",
      "\n",
      " [[0.22352941]\n",
      "  [0.23137255]\n",
      "  [0.2745098 ]\n",
      "  ...\n",
      "  [0.59607843]\n",
      "  [0.58823529]\n",
      "  [0.61176471]]\n",
      "\n",
      " [[0.23137255]\n",
      "  [0.25098039]\n",
      "  [0.23137255]\n",
      "  ...\n",
      "  [0.60784314]\n",
      "  [0.60392157]\n",
      "  [0.61960784]]\n",
      "\n",
      " ...\n",
      "\n",
      " [[0.62352941]\n",
      "  [0.60784314]\n",
      "  [0.53333333]\n",
      "  ...\n",
      "  [0.58431373]\n",
      "  [0.65490196]\n",
      "  [0.65098039]]\n",
      "\n",
      " [[0.59215686]\n",
      "  [0.56862745]\n",
      "  [0.55294118]\n",
      "  ...\n",
      "  [0.57254902]\n",
      "  [0.65098039]\n",
      "  [0.6627451 ]]\n",
      "\n",
      " [[0.58431373]\n",
      "  [0.5254902 ]\n",
      "  [0.51764706]\n",
      "  ...\n",
      "  [0.56078431]\n",
      "  [0.63921569]\n",
      "  [0.64313725]]]\n",
      "1\n",
      "(102, 50, 50, 1)\n",
      "(50, 50, 1)\n"
     ]
    }
   ],
   "source": [
    "pickle_in = open(\"X.pickle\", \"rb\")\n",
    "X = pickle.load(pickle_in)\n",
    "\n",
    "pickle_in = open(\"Y.pickle\", \"rb\")\n",
    "Y = pickle.load(pickle_in)\n",
    "\n",
    "X = X/255.0\n",
    "\n",
    "print(X[0])\n",
    "print(Y[0])\n",
    "print(X.shape)\n",
    "print(X.shape[1:])"
   ]
  },
  {
   "cell_type": "code",
   "execution_count": 12,
   "metadata": {},
   "outputs": [
    {
     "name": "stdout",
     "output_type": "stream",
     "text": [
      "Epoch 1/10\n",
      "102/102 [==============================] - 4s 38ms/sample - loss: 1.2648 - acc: 0.3922\n",
      "Epoch 2/10\n",
      "102/102 [==============================] - 3s 34ms/sample - loss: 0.6929 - acc: 0.5196\n",
      "Epoch 3/10\n",
      "102/102 [==============================] - 3s 33ms/sample - loss: 0.6946 - acc: 0.4706\n",
      "Epoch 4/10\n",
      "102/102 [==============================] - 3s 33ms/sample - loss: 0.6849 - acc: 0.5882\n",
      "Epoch 5/10\n",
      "102/102 [==============================] - 3s 33ms/sample - loss: 0.6563 - acc: 0.7255\n",
      "Epoch 6/10\n",
      "102/102 [==============================] - 3s 33ms/sample - loss: 0.6155 - acc: 0.6667\n",
      "Epoch 7/10\n",
      "102/102 [==============================] - 3s 34ms/sample - loss: 0.5706 - acc: 0.7549\n",
      "Epoch 8/10\n",
      "102/102 [==============================] - 3s 32ms/sample - loss: 0.5200 - acc: 0.7157\n",
      "Epoch 9/10\n",
      "102/102 [==============================] - 3s 33ms/sample - loss: 0.4515 - acc: 0.7843\n",
      "Epoch 10/10\n",
      "102/102 [==============================] - 3s 33ms/sample - loss: 0.4009 - acc: 0.8333\n"
     ]
    },
    {
     "data": {
      "text/plain": [
       "<tensorflow.python.keras.callbacks.History at 0x20943933400>"
      ]
     },
     "execution_count": 12,
     "metadata": {},
     "output_type": "execute_result"
    }
   ],
   "source": [
    "model = Sequential()\n",
    "\n",
    "model.add(Conv2D(256, (3,3), input_shape = X.shape[1:]))\n",
    "model.add(Activation('relu'))\n",
    "model.add(MaxPooling2D(pool_size = (2,2)))\n",
    "\n",
    "model.add(Conv2D(256, (3,3)))\n",
    "model.add(Activation('relu'))\n",
    "model.add(MaxPooling2D(pool_size = (2,2)))\n",
    "\n",
    "model.add(Flatten())\n",
    "model.add(Dense(64))\n",
    "model.add(Dense(1))\n",
    "model.add(Activation('sigmoid'))\n",
    "\n",
    "model.compile(loss = 'binary_crossentropy', optimizer = 'adam', metrics = ['accuracy'])\n",
    "model.fit(X, Y, batch_size = 10, epochs = 10)\n",
    "\n"
   ]
  },
  {
   "cell_type": "code",
   "execution_count": null,
   "metadata": {},
   "outputs": [],
   "source": []
  }
 ],
 "metadata": {
  "kernelspec": {
   "display_name": "Python 3",
   "language": "python",
   "name": "python3"
  },
  "language_info": {
   "codemirror_mode": {
    "name": "ipython",
    "version": 3
   },
   "file_extension": ".py",
   "mimetype": "text/x-python",
   "name": "python",
   "nbconvert_exporter": "python",
   "pygments_lexer": "ipython3",
   "version": "3.6.8"
  }
 },
 "nbformat": 4,
 "nbformat_minor": 2
}
